{
 "cells": [
  {
   "cell_type": "code",
   "execution_count": 1,
   "metadata": {},
   "outputs": [],
   "source": [
    "text = \"With blockchain technology, digital assets—everything from money, stocks, bonds, and intellectual property to music, art, loyalty points, student records, and credentials—are not stored in a central place. They are distributed across a global ledger, using the highest level of cryptography. Transactions are posted globally across millions of computers. Blockchain technology could help improve education in a variety of ways, from making it more accessible and affordable to enhancing student privacy.\""
   ]
  },
  {
   "cell_type": "code",
   "execution_count": 2,
   "metadata": {},
   "outputs": [
    {
     "data": {
      "text/plain": [
       "'With blockchain technology, digital assets—everything from money, stocks, bonds, and intellectual property to music, art, loyalty points, student records, and credentials—are not stored in a central place. They are distributed across a global ledger, using the highest level of cryptography. Transactions are posted globally across millions of computers. Blockchain technology could help improve education in a variety of ways, from making it more accessible and affordable to enhancing student privacy.'"
      ]
     },
     "execution_count": 2,
     "metadata": {},
     "output_type": "execute_result"
    }
   ],
   "source": [
    "text"
   ]
  },
  {
   "cell_type": "code",
   "execution_count": null,
   "metadata": {},
   "outputs": [],
   "source": [
    "# spacy 安装： conda install -c conda-forge spacy   \n",
    "import spacy"
   ]
  },
  {
   "cell_type": "code",
   "execution_count": null,
   "metadata": {},
   "outputs": [],
   "source": [
    "# 让Spacy使用英语模型，将模型存储到变量nlp中\n",
    "nlp = spacy.load(\"en\")"
   ]
  },
  {
   "cell_type": "code",
   "execution_count": null,
   "metadata": {},
   "outputs": [],
   "source": [
    "# 用nlp模型分析文本文件\n",
    "doc = nlp(text)"
   ]
  },
  {
   "cell_type": "code",
   "execution_count": null,
   "metadata": {},
   "outputs": [],
   "source": [
    "doc"
   ]
  },
  {
   "cell_type": "code",
   "execution_count": null,
   "metadata": {},
   "outputs": [],
   "source": []
  }
 ],
 "metadata": {
  "kernelspec": {
   "display_name": "Python 3",
   "language": "python",
   "name": "python3"
  },
  "language_info": {
   "codemirror_mode": {
    "name": "ipython",
    "version": 3
   },
   "file_extension": ".py",
   "mimetype": "text/x-python",
   "name": "python",
   "nbconvert_exporter": "python",
   "pygments_lexer": "ipython3",
   "version": "3.7.3"
  }
 },
 "nbformat": 4,
 "nbformat_minor": 2
}
